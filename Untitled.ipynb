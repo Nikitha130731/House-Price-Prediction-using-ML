{
 "cells": [
  {
   "cell_type": "code",
   "execution_count": null,
   "id": "25317e9f-bc55-4b79-ae46-f9074800d693",
   "metadata": {},
   "outputs": [],
   "source": []
  }
 ],
 "metadata": {
  "kernelspec": {
   "display_name": "",
   "name": ""
  },
  "language_info": {
   "name": ""
  }
 },
 "nbformat": 4,
 "nbformat_minor": 5
}
